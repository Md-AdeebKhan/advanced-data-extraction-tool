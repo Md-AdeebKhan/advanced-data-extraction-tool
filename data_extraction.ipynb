{
 "cells": [
  {
   "cell_type": "code",
   "execution_count": 2,
   "id": "d492f050",
   "metadata": {},
   "outputs": [],
   "source": [
    "# !pip install PyMuPDF\n",
    "import fitz  # PyMuPDF\n",
    "\n",
    "def extract_text_pymupdf(pdf_path):\n",
    "    doc = fitz.open(pdf_path)\n",
    "    text = \"\"\n",
    "    for page in doc:\n",
    "        text += page.get_text() + \"\\n\"\n",
    "    return text\n",
    "\n"
   ]
  },
  {
   "cell_type": "code",
   "execution_count": 3,
   "id": "7f22ceae",
   "metadata": {},
   "outputs": [
    {
     "name": "stderr",
     "output_type": "stream",
     "text": [
      "<>:1: SyntaxWarning: invalid escape sequence '\\h'\n",
      "<>:1: SyntaxWarning: invalid escape sequence '\\h'\n",
      "C:\\Users\\mdade\\AppData\\Local\\Temp\\ipykernel_24468\\38475110.py:1: SyntaxWarning: invalid escape sequence '\\h'\n",
      "  pdf_file = \"D:\\health care pdf\\diabetes-training-manual.pdf\"\n"
     ]
    }
   ],
   "source": [
    "pdf_file = \"D:\\health care pdf\\diabetes-training-manual.pdf\"\n",
    "pdfPyMu_text = extract_text_pymupdf(pdf_file)\n",
    "with open('pdfPyMu_text.txt', 'w', encoding='utf-8') as f:\n",
    "    f.write(pdfPyMu_text)\n"
   ]
  }
 ],
 "metadata": {
  "kernelspec": {
   "display_name": "venv",
   "language": "python",
   "name": "python3"
  },
  "language_info": {
   "codemirror_mode": {
    "name": "ipython",
    "version": 3
   },
   "file_extension": ".py",
   "mimetype": "text/x-python",
   "name": "python",
   "nbconvert_exporter": "python",
   "pygments_lexer": "ipython3",
   "version": "3.13.6"
  }
 },
 "nbformat": 4,
 "nbformat_minor": 5
}
